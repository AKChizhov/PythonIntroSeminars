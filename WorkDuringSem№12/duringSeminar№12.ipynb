{
 "cells": [
  {
   "cell_type": "code",
   "execution_count": null,
   "metadata": {},
   "outputs": [],
   "source": [
    "'''\n",
    "f(x) = a*x**2 + b*x + c\n",
    "\n",
    "a * (31) ** 2 + b * 31 + c = 19310 - цена квартиры 31 кв.м. \n",
    "a * (51) ** 2 + b * 51 + c = 52150 - цена квартиры 51 кв.м. \n",
    "a * (61) ** 2 + b * 61 + c = 74570 - цена квартиры 61 кв.м. \n",
    "Какова цена квартир площадью 48 и 54 кв. м. ?\n",
    "Для ответа решаем систему линейных уравнений\n",
    "'''"
   ]
  },
  {
   "cell_type": "code",
   "execution_count": null,
   "metadata": {},
   "outputs": [],
   "source": [
    "import scipy.optimize\n",
    "\n",
    "def func(d):\n",
    "    a,b,c = d\n",
    "    f1 = a * (31) ** 2 + b * 31 + c - 19310\n",
    "    f2 = a * (51) ** 2 + b * 51 + c - 52150\n",
    "    f3 = a * (61) ** 2 + b * 61 + c - 74570\n",
    "    return (f1,f2,f3)\n",
    "\n",
    " #Найдем решение f(a,b,c) = 0\n",
    "\n",
    "optobj = scipy.optimize.root(func, (5,5,5))\n",
    "\n",
    "if optobj.success:\n",
    "    print(\" [a,b,c] = \", optobj.x)"
   ]
  },
  {
   "cell_type": "code",
   "execution_count": null,
   "metadata": {},
   "outputs": [],
   "source": [
    "x1 = 48; x2 = 54\n",
    "f1 = 20*x1**2 + 2*x1 + 28\n",
    "f2 = 20*x2**2 + 2*x2 + 28\n",
    "print(\"f(48 кв.м.) = \",f1, \"  f(54 кв.м.) = \",f2)"
   ]
  },
  {
   "cell_type": "code",
   "execution_count": null,
   "metadata": {},
   "outputs": [],
   "source": [
    "import sympy as sp\n",
    "from sympy.plotting import plot \n",
    "x = sp.Symbol('x')\n",
    "f = 20*x**2 + 2*x + 28\n",
    "graph = sp.plot(f,(x,0,100),line_color='red',title=\"График роста стоимости квартиры от метража\",xlabel=\"Метраж (кв.м)\",ylabel=\"Цена\")"
   ]
  }
 ],
 "metadata": {
  "kernelspec": {
   "display_name": "Python 3",
   "language": "python",
   "name": "python3"
  },
  "language_info": {
   "codemirror_mode": {
    "name": "ipython",
    "version": 3
   },
   "file_extension": ".py",
   "mimetype": "text/x-python",
   "name": "python",
   "nbconvert_exporter": "python",
   "pygments_lexer": "ipython3",
   "version": "3.11.0"
  },
  "orig_nbformat": 4,
  "vscode": {
   "interpreter": {
    "hash": "f93517a33a810c75e4c6bda52e15134c6d5a7919b0d702f940e549ba0cc30634"
   }
  }
 },
 "nbformat": 4,
 "nbformat_minor": 2
}
