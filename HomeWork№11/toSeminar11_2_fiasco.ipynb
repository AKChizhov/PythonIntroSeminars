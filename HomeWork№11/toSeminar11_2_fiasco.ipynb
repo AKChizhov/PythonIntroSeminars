{
 "cells": [
  {
   "cell_type": "code",
   "execution_count": null,
   "metadata": {},
   "outputs": [],
   "source": [
    "# f(x) = -12x^4*sin(cos(x)) - 18x^3+5x^2 + 10x - 30\n",
    "import sympy as sp\n",
    "from sympy import cos, sin\n",
    "x = sp.Symbol('x')\n",
    "expr =-12*x**4*sin(cos(x)) - 18*x**3+5*x**2 + 10*x - 30\n",
    "expr"
   ]
  },
  {
   "cell_type": "code",
   "execution_count": null,
   "metadata": {},
   "outputs": [],
   "source": [
    "graph = sp.plot(expr)"
   ]
  },
  {
   "cell_type": "code",
   "execution_count": null,
   "metadata": {},
   "outputs": [],
   "source": [
    "expr_diff = sp.diff(expr)\n",
    "expr_diff"
   ]
  }
 ],
 "metadata": {
  "kernelspec": {
   "display_name": "Python 3",
   "language": "python",
   "name": "python3"
  },
  "language_info": {
   "codemirror_mode": {
    "name": "ipython",
    "version": 3
   },
   "file_extension": ".py",
   "mimetype": "text/x-python",
   "name": "python",
   "nbconvert_exporter": "python",
   "pygments_lexer": "ipython3",
   "version": "3.11.0"
  },
  "orig_nbformat": 4,
  "vscode": {
   "interpreter": {
    "hash": "f93517a33a810c75e4c6bda52e15134c6d5a7919b0d702f940e549ba0cc30634"
   }
  }
 },
 "nbformat": 4,
 "nbformat_minor": 2
}
